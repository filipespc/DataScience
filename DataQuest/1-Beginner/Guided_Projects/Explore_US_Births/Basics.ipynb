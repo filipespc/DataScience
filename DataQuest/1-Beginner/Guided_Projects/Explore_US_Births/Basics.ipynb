{
 "cells": [
  {
   "cell_type": "code",
   "execution_count": 1,
   "metadata": {
    "collapsed": false
   },
   "outputs": [
    {
     "name": "stdout",
     "output_type": "stream",
     "text": [
      "['year,month,date_of_month,day_of_week,births', '1994,1,1,6,8096', '1994,1,2,7,7772', '1994,1,3,1,10142', '1994,1,4,2,11248', '1994,1,5,3,11053', '1994,1,6,4,11406', '1994,1,7,5,11251', '1994,1,8,6,8653', '1994,1,9,7,7910']\n"
     ]
    }
   ],
   "source": [
    "f = open(\"US_births_1994-2003_CDC_NCHS.csv\",\"r\")\n",
    "data_rows = f.read().split(\"\\n\")\n",
    "print(data_rows[0:10])"
   ]
  },
  {
   "cell_type": "code",
   "execution_count": 3,
   "metadata": {
    "collapsed": false
   },
   "outputs": [],
   "source": [
    "def read_csv(file_name):\n",
    "    f = open(file_name,\"r\")\n",
    "    string_list = f.read().split(\"\\n\")[1:]\n",
    "    final_list = []\n",
    "    for element in string_list:\n",
    "        element_parse = element.split(\",\")\n",
    "        final_list.append([int(element_parse[0]), int(element_parse[1]),\n",
    "                           int(element_parse[2]), int(element_parse[3]),\n",
    "                           int(element_parse[4])])\n",
    "    return final_list\n",
    "        "
   ]
  },
  {
   "cell_type": "code",
   "execution_count": 4,
   "metadata": {
    "collapsed": false
   },
   "outputs": [
    {
     "name": "stdout",
     "output_type": "stream",
     "text": [
      "[[1994, 1, 1, 6, 8096], [1994, 1, 2, 7, 7772], [1994, 1, 3, 1, 10142], [1994, 1, 4, 2, 11248], [1994, 1, 5, 3, 11053], [1994, 1, 6, 4, 11406], [1994, 1, 7, 5, 11251], [1994, 1, 8, 6, 8653], [1994, 1, 9, 7, 7910], [1994, 1, 10, 1, 10498]]\n"
     ]
    }
   ],
   "source": [
    "cdc_list = read_csv(\"US_births_1994-2003_CDC_NCHS.csv\")\n",
    "print(cdc_list[0:10])"
   ]
  },
  {
   "cell_type": "code",
   "execution_count": 8,
   "metadata": {
    "collapsed": true
   },
   "outputs": [],
   "source": [
    "def month_births(birth_lst):\n",
    "    births_per_month = {}\n",
    "    for each in birth_lst:\n",
    "        if each[1] in births_per_month:\n",
    "            births_per_month[each[1]] += each[4]\n",
    "        else:\n",
    "            births_per_month[each[1]] = 1\n",
    "    return births_per_month"
   ]
  },
  {
   "cell_type": "code",
   "execution_count": 9,
   "metadata": {
    "collapsed": false
   },
   "outputs": [
    {
     "name": "stdout",
     "output_type": "stream",
     "text": [
      "{1: 3224422, 2: 3006386, 3: 3309943, 4: 3174685, 5: 3342763, 6: 3284182, 7: 3486330, 8: 3514431, 9: 3427516, 10: 3369464, 11: 3159332, 12: 3290180}\n"
     ]
    }
   ],
   "source": [
    "cdc_month_births = month_births(cdc_list)\n",
    "print(cdc_month_births)"
   ]
  },
  {
   "cell_type": "code",
   "execution_count": 15,
   "metadata": {
    "collapsed": true
   },
   "outputs": [],
   "source": [
    "def dow_births(birth_lst):\n",
    "    births_per_dow = {}\n",
    "    for each in birth_lst:\n",
    "        if each[3] in births_per_dow:\n",
    "            births_per_dow[each[3]] += each[4]\n",
    "        else:\n",
    "            births_per_dow[each[3]] = 1\n",
    "    return births_per_dow"
   ]
  },
  {
   "cell_type": "code",
   "execution_count": 16,
   "metadata": {
    "collapsed": false
   },
   "outputs": [
    {
     "name": "stdout",
     "output_type": "stream",
     "text": [
      "{1: 5779025, 2: 6434949, 3: 6311803, 4: 6277024, 5: 6222407, 6: 4554016, 7: 4071952}\n"
     ]
    }
   ],
   "source": [
    "cdc_day_births = dow_births(cdc_list)\n",
    "print(cdc_day_births)"
   ]
  },
  {
   "cell_type": "code",
   "execution_count": 17,
   "metadata": {
    "collapsed": true
   },
   "outputs": [],
   "source": [
    "def calc_counts(data,column):\n",
    "    column_dict = {}\n",
    "    for each in data:\n",
    "        if each[column] in column_dict:\n",
    "            column_dict[each[column]] += each[4]\n",
    "        else:\n",
    "            column_dict[each[column]] = 1\n",
    "    return column_dict"
   ]
  },
  {
   "cell_type": "code",
   "execution_count": 18,
   "metadata": {
    "collapsed": true
   },
   "outputs": [],
   "source": [
    "cdc_year_births = calc_counts(cdc_list,0)\n",
    "cdc_month_births = calc_counts(cdc_list,1)\n",
    "cdc_dom_births = calc_counts(cdc_list,2)\n",
    "cdc_dow_births = calc_counts(cdc_list,3)"
   ]
  },
  {
   "cell_type": "code",
   "execution_count": 19,
   "metadata": {
    "collapsed": false
   },
   "outputs": [
    {
     "name": "stdout",
     "output_type": "stream",
     "text": [
      "{2000: 4049972, 2001: 4018497, 2002: 4013937, 2003: 4082168, 1994: 3944672, 1995: 3891762, 1996: 3883812, 1997: 3872546, 1998: 3933341, 1999: 3951255}\n",
      "{1: 3224422, 2: 3006386, 3: 3309943, 4: 3174685, 5: 3342763, 6: 3284182, 7: 3486330, 8: 3514431, 9: 3427516, 10: 3369464, 11: 3159332, 12: 3290180}\n",
      "{1: 1268462, 2: 1280968, 3: 1294358, 4: 1276907, 5: 1288901, 6: 1293069, 7: 1299209, 8: 1303645, 9: 1295383, 10: 1310267, 11: 1302656, 12: 1306871, 13: 1266473, 14: 1308584, 15: 1310512, 16: 1307070, 17: 1314387, 18: 1315315, 19: 1307471, 20: 1313140, 21: 1311087, 22: 1308549, 23: 1284981, 24: 1276959, 25: 1260136, 26: 1273283, 27: 1282694, 28: 1296020, 29: 1214174, 30: 1194000, 31: 735932}\n",
      "{1: 5779025, 2: 6434949, 3: 6311803, 4: 6277024, 5: 6222407, 6: 4554016, 7: 4071952}\n"
     ]
    }
   ],
   "source": [
    "print(cdc_year_births)\n",
    "print(cdc_month_births)\n",
    "print(cdc_dom_births)\n",
    "print(cdc_dow_births)"
   ]
  },
  {
   "cell_type": "code",
   "execution_count": null,
   "metadata": {
    "collapsed": true
   },
   "outputs": [],
   "source": []
  }
 ],
 "metadata": {
  "anaconda-cloud": {},
  "kernelspec": {
   "display_name": "Python 3",
   "language": "python",
   "name": "python3"
  },
  "language_info": {
   "codemirror_mode": {
    "name": "ipython",
    "version": 3
   },
   "file_extension": ".py",
   "mimetype": "text/x-python",
   "name": "python",
   "nbconvert_exporter": "python",
   "pygments_lexer": "ipython3",
   "version": "3.4.3"
  }
 },
 "nbformat": 4,
 "nbformat_minor": 1
}
