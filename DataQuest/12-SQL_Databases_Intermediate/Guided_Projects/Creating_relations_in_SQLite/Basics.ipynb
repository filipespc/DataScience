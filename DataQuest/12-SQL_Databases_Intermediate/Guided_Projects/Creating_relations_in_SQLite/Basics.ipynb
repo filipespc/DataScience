{
 "cells": [
  {
   "cell_type": "markdown",
   "metadata": {
    "collapsed": true
   },
   "source": [
    "# GETTING STARTED"
   ]
  },
  {
   "cell_type": "code",
   "execution_count": 137,
   "metadata": {
    "collapsed": true
   },
   "outputs": [],
   "source": [
    "import sqlite3 as sql"
   ]
  },
  {
   "cell_type": "code",
   "execution_count": 138,
   "metadata": {
    "collapsed": true
   },
   "outputs": [],
   "source": [
    "conn = sql.connect(\"nominations.db\")"
   ]
  },
  {
   "cell_type": "code",
   "execution_count": 139,
   "metadata": {
    "collapsed": true
   },
   "outputs": [],
   "source": [
    "cursor = conn.cursor()"
   ]
  },
  {
   "cell_type": "markdown",
   "metadata": {},
   "source": [
    "# EXPLORING DATA"
   ]
  },
  {
   "cell_type": "code",
   "execution_count": 140,
   "metadata": {
    "collapsed": false
   },
   "outputs": [
    {
     "name": "stdout",
     "output_type": "stream",
     "text": [
      "(0, 'Year', 'INTEGER', 0, None, 0)\n",
      "(1, 'Category', 'TEXT', 0, None, 0)\n",
      "(2, 'Nominee', 'TEXT', 0, None, 0)\n",
      "(3, 'Won', 'INTEGER', 0, None, 0)\n",
      "(4, 'Movie', 'TEXT', 0, None, 0)\n",
      "(5, 'Character', 'TEXT', 0, None, 0)\n"
     ]
    }
   ],
   "source": [
    "schema = cursor.execute(\"pragma table_info(\\\"nominations\\\");\").fetchall()\n",
    "for each in schema:\n",
    "    print(each)"
   ]
  },
  {
   "cell_type": "code",
   "execution_count": 141,
   "metadata": {
    "collapsed": false
   },
   "outputs": [
    {
     "name": "stdout",
     "output_type": "stream",
     "text": [
      "(2010, 'Actor -- Leading Role', 'Javier Bardem', 0, 'Biutiful', 'Uxbal')\n",
      "(2010, 'Actor -- Leading Role', 'Jeff Bridges', 0, 'True Grit', 'Rooster Cogburn')\n",
      "(2010, 'Actor -- Leading Role', 'Jesse Eisenberg', 0, 'The Social Network', 'Mark Zuckerberg')\n",
      "(2010, 'Actor -- Leading Role', 'Colin Firth', 1, \"The King's Speech\", 'King George VI')\n",
      "(2010, 'Actor -- Leading Role', 'James Franco', 0, '127 Hours', 'Aron Ralston')\n",
      "(2010, 'Actor -- Supporting Role', 'Christian Bale', 1, 'The Fighter', 'Dicky Eklund')\n",
      "(2010, 'Actor -- Supporting Role', 'John Hawkes', 0, \"Winter's Bone\", 'Teardrop')\n",
      "(2010, 'Actor -- Supporting Role', 'Jeremy Renner', 0, 'The Town', 'James Coughlin')\n",
      "(2010, 'Actor -- Supporting Role', 'Mark Ruffalo', 0, 'The Kids Are All Right', 'Paul')\n",
      "(2010, 'Actor -- Supporting Role', 'Geoffrey Rush', 0, \"The King's Speech\", 'Lionel Logue')\n"
     ]
    }
   ],
   "source": [
    "first_ten = cursor.execute(\"SELECT * FROM nominations LIMIT 10\").fetchall()\n",
    "for each in first_ten:\n",
    "    print(each)"
   ]
  },
  {
   "cell_type": "markdown",
   "metadata": {},
   "source": [
    "# CREATING CEREMONIES TABLE"
   ]
  },
  {
   "cell_type": "code",
   "execution_count": 142,
   "metadata": {
    "collapsed": false
   },
   "outputs": [
    {
     "data": {
      "text/plain": [
       "[]"
      ]
     },
     "execution_count": 142,
     "metadata": {},
     "output_type": "execute_result"
    }
   ],
   "source": [
    "q = '''\n",
    "    CREATE TABLE ceremonies (\n",
    "        id integer PRIMARY KEY,\n",
    "        Year integer,\n",
    "        Host text\n",
    "    )\n",
    "'''\n",
    "\n",
    "cursor.execute(q)\n",
    "\n",
    "cursor.execute(\"SELECT * FROM ceremonies\").fetchall()"
   ]
  },
  {
   "cell_type": "code",
   "execution_count": 143,
   "metadata": {
    "collapsed": false
   },
   "outputs": [
    {
     "data": {
      "text/plain": [
       "[(1, 2010, 'Steve Martin'),\n",
       " (2, 2009, 'Hugh Jackman'),\n",
       " (3, 2008, 'Jon Stewart'),\n",
       " (4, 2007, 'Ellen DeGeneres'),\n",
       " (5, 2006, 'Jon Stewart'),\n",
       " (6, 2005, 'Chris Rock'),\n",
       " (7, 2004, 'Billy Crystal'),\n",
       " (8, 2003, 'Steve Martin'),\n",
       " (9, 2002, 'Whoopi Goldberg'),\n",
       " (10, 2001, 'Steve Martin'),\n",
       " (11, 2000, 'Billy Crystal')]"
      ]
     },
     "execution_count": 143,
     "metadata": {},
     "output_type": "execute_result"
    }
   ],
   "source": [
    "years_hosts = [(2010, \"Steve Martin\"),\n",
    "               (2009, \"Hugh Jackman\"),\n",
    "               (2008, \"Jon Stewart\"),\n",
    "               (2007, \"Ellen DeGeneres\"),\n",
    "               (2006, \"Jon Stewart\"),\n",
    "               (2005, \"Chris Rock\"),\n",
    "               (2004, \"Billy Crystal\"),\n",
    "               (2003, \"Steve Martin\"),\n",
    "               (2002, \"Whoopi Goldberg\"),\n",
    "               (2001, \"Steve Martin\"),\n",
    "               (2000, \"Billy Crystal\"),\n",
    "            ]\n",
    "q = \"INSERT INTO ceremonies (Year, Host) VALUES (?,?)\"\n",
    "cursor.executemany(q,years_hosts)\n",
    "\n",
    "cursor.execute(\"SELECT * FROM ceremonies\").fetchall()"
   ]
  },
  {
   "cell_type": "code",
   "execution_count": 144,
   "metadata": {
    "collapsed": false
   },
   "outputs": [
    {
     "data": {
      "text/plain": [
       "[(0, 'id', 'integer', 0, None, 1),\n",
       " (1, 'Year', 'integer', 0, None, 0),\n",
       " (2, 'Host', 'text', 0, None, 0)]"
      ]
     },
     "execution_count": 144,
     "metadata": {},
     "output_type": "execute_result"
    }
   ],
   "source": [
    "cursor.execute(\"pragma table_info(ceremonies)\").fetchall()"
   ]
  },
  {
   "cell_type": "markdown",
   "metadata": {},
   "source": [
    "# CHANGING NOMINATIONS CEREMONY REFERENCE\n",
    "This is required for it to refer to the new ceremonies table"
   ]
  },
  {
   "cell_type": "code",
   "execution_count": 145,
   "metadata": {
    "collapsed": false
   },
   "outputs": [
    {
     "data": {
      "text/plain": [
       "<sqlite3.Cursor at 0x7f372c0ff9d0>"
      ]
     },
     "execution_count": 145,
     "metadata": {},
     "output_type": "execute_result"
    }
   ],
   "source": [
    "cursor.execute(\"pragma foreign_keys = ON\")"
   ]
  },
  {
   "cell_type": "code",
   "execution_count": 146,
   "metadata": {
    "collapsed": false
   },
   "outputs": [
    {
     "name": "stdout",
     "output_type": "stream",
     "text": [
      "('Actor -- Leading Role', 'Javier Bardem', 'Biutiful', 'Uxbal', 0, 1)\n",
      "('Actor -- Leading Role', 'Jeff Bridges', 'True Grit', 'Rooster Cogburn', 0, 1)\n",
      "('Actor -- Leading Role', 'Jesse Eisenberg', 'The Social Network', 'Mark Zuckerberg', 0, 1)\n",
      "('Actor -- Leading Role', 'Colin Firth', \"The King's Speech\", 'King George VI', 1, 1)\n",
      "('Actor -- Leading Role', 'James Franco', '127 Hours', 'Aron Ralston', 0, 1)\n",
      "('Actor -- Supporting Role', 'Christian Bale', 'The Fighter', 'Dicky Eklund', 1, 1)\n",
      "('Actor -- Supporting Role', 'John Hawkes', \"Winter's Bone\", 'Teardrop', 0, 1)\n",
      "('Actor -- Supporting Role', 'Jeremy Renner', 'The Town', 'James Coughlin', 0, 1)\n",
      "('Actor -- Supporting Role', 'Mark Ruffalo', 'The Kids Are All Right', 'Paul', 0, 1)\n",
      "('Actor -- Supporting Role', 'Geoffrey Rush', \"The King's Speech\", 'Lionel Logue', 0, 1)\n"
     ]
    }
   ],
   "source": [
    "q = \"SELECT nominations.Category, nominations.Nominee, nominations.Movie, nominations.Character, nominations.Won, ceremonies.id\\\n",
    "    FROM nominations INNER JOIN ceremonies ON nominations.year == ceremonies.year\"\n",
    "\n",
    "joined_nominations = cursor.execute(q).fetchall()\n",
    "\n",
    "for each in joined_nominations[:10]:\n",
    "    print(each)"
   ]
  },
  {
   "cell_type": "code",
   "execution_count": 147,
   "metadata": {
    "collapsed": false
   },
   "outputs": [
    {
     "data": {
      "text/plain": [
       "<sqlite3.Cursor at 0x7f372c0ff9d0>"
      ]
     },
     "execution_count": 147,
     "metadata": {},
     "output_type": "execute_result"
    }
   ],
   "source": [
    "q = '''\n",
    "    CREATE TABLE nominations_two (\n",
    "        id integer PRIMARY KEY,\n",
    "        category text,\n",
    "        nominee text,\n",
    "        movie text,\n",
    "        character text,\n",
    "        won integer,\n",
    "        ceremony_id integer,\n",
    "        FOREIGN KEY (ceremony_id) REFERENCES ceremonies(id)\n",
    "    )\n",
    "'''    \n",
    "\n",
    "cursor.execute(q)"
   ]
  },
  {
   "cell_type": "code",
   "execution_count": 148,
   "metadata": {
    "collapsed": false
   },
   "outputs": [
    {
     "name": "stdout",
     "output_type": "stream",
     "text": [
      "[]\n"
     ]
    }
   ],
   "source": [
    "print(cursor.execute(\"SELECT * FROM nominations_two LIMIT 10\").fetchall())"
   ]
  },
  {
   "cell_type": "code",
   "execution_count": 149,
   "metadata": {
    "collapsed": false
   },
   "outputs": [
    {
     "data": {
      "text/plain": [
       "<sqlite3.Cursor at 0x7f372c0ff9d0>"
      ]
     },
     "execution_count": 149,
     "metadata": {},
     "output_type": "execute_result"
    }
   ],
   "source": [
    "q = '''\n",
    "    INSERT INTO nominations_two\n",
    "    (category, nominee, movie, character, won, ceremony_id)\n",
    "     VALUES (?, ?, ? ,? ,? ,?)\n",
    "'''\n",
    "cursor.executemany(q,joined_nominations)"
   ]
  },
  {
   "cell_type": "code",
   "execution_count": 150,
   "metadata": {
    "collapsed": false
   },
   "outputs": [
    {
     "name": "stdout",
     "output_type": "stream",
     "text": [
      "(1, 'Actor -- Leading Role', 'Javier Bardem', 'Biutiful', 'Uxbal', 0, 1)\n",
      "(2, 'Actor -- Leading Role', 'Jeff Bridges', 'True Grit', 'Rooster Cogburn', 0, 1)\n",
      "(3, 'Actor -- Leading Role', 'Jesse Eisenberg', 'The Social Network', 'Mark Zuckerberg', 0, 1)\n",
      "(4, 'Actor -- Leading Role', 'Colin Firth', \"The King's Speech\", 'King George VI', 1, 1)\n",
      "(5, 'Actor -- Leading Role', 'James Franco', '127 Hours', 'Aron Ralston', 0, 1)\n",
      "(6, 'Actor -- Supporting Role', 'Christian Bale', 'The Fighter', 'Dicky Eklund', 1, 1)\n",
      "(7, 'Actor -- Supporting Role', 'John Hawkes', \"Winter's Bone\", 'Teardrop', 0, 1)\n",
      "(8, 'Actor -- Supporting Role', 'Jeremy Renner', 'The Town', 'James Coughlin', 0, 1)\n",
      "(9, 'Actor -- Supporting Role', 'Mark Ruffalo', 'The Kids Are All Right', 'Paul', 0, 1)\n",
      "(10, 'Actor -- Supporting Role', 'Geoffrey Rush', \"The King's Speech\", 'Lionel Logue', 0, 1)\n"
     ]
    }
   ],
   "source": [
    "first_ten = cursor.execute(\"SELECT * FROM nominations_two LIMIT 10\").fetchall()\n",
    "\n",
    "for each in first_ten:\n",
    "    print(each)"
   ]
  },
  {
   "cell_type": "code",
   "execution_count": 151,
   "metadata": {
    "collapsed": false
   },
   "outputs": [
    {
     "name": "stdout",
     "output_type": "stream",
     "text": [
      "(1, 'Actor -- Leading Role', 'Javier Bardem', 'Biutiful', 'Uxbal', 0, 1)\n",
      "(2, 'Actor -- Leading Role', 'Jeff Bridges', 'True Grit', 'Rooster Cogburn', 0, 1)\n",
      "(3, 'Actor -- Leading Role', 'Jesse Eisenberg', 'The Social Network', 'Mark Zuckerberg', 0, 1)\n",
      "(4, 'Actor -- Leading Role', 'Colin Firth', \"The King's Speech\", 'King George VI', 1, 1)\n",
      "(5, 'Actor -- Leading Role', 'James Franco', '127 Hours', 'Aron Ralston', 0, 1)\n",
      "(6, 'Actor -- Supporting Role', 'Christian Bale', 'The Fighter', 'Dicky Eklund', 1, 1)\n",
      "(7, 'Actor -- Supporting Role', 'John Hawkes', \"Winter's Bone\", 'Teardrop', 0, 1)\n",
      "(8, 'Actor -- Supporting Role', 'Jeremy Renner', 'The Town', 'James Coughlin', 0, 1)\n",
      "(9, 'Actor -- Supporting Role', 'Mark Ruffalo', 'The Kids Are All Right', 'Paul', 0, 1)\n",
      "(10, 'Actor -- Supporting Role', 'Geoffrey Rush', \"The King's Speech\", 'Lionel Logue', 0, 1)\n"
     ]
    }
   ],
   "source": [
    "conn.execute(\"DROP TABLE nominations\")\n",
    "conn.execute(\"ALTER TABLE nominations_two RENAME TO nominations\")\n",
    "\n",
    "first_ten = cursor.execute(\"SELECT * FROM nominations LIMIT 10\").fetchall()\n",
    "\n",
    "for each in first_ten:\n",
    "    print(each)"
   ]
  },
  {
   "cell_type": "markdown",
   "metadata": {},
   "source": [
    "# NORMALIZING TABLES (MOVIES AND ACTORS)"
   ]
  },
  {
   "cell_type": "code",
   "execution_count": 152,
   "metadata": {
    "collapsed": false
   },
   "outputs": [
    {
     "data": {
      "text/plain": [
       "[('table',\n",
       "  'ceremonies',\n",
       "  'ceremonies',\n",
       "  19,\n",
       "  'CREATE TABLE ceremonies (\\n        id integer PRIMARY KEY,\\n        Year integer,\\n        Host text\\n    )'),\n",
       " ('table',\n",
       "  'nominations',\n",
       "  'nominations',\n",
       "  20,\n",
       "  'CREATE TABLE \"nominations\" (\\n        id integer PRIMARY KEY,\\n        category text,\\n        nominee text,\\n        movie text,\\n        character text,\\n        won integer,\\n        ceremony_id integer,\\n        FOREIGN KEY (ceremony_id) REFERENCES ceremonies(id)\\n    )')]"
      ]
     },
     "execution_count": 152,
     "metadata": {},
     "output_type": "execute_result"
    }
   ],
   "source": [
    "q = '''\n",
    "    SELECT * FROM sqlite_master WHERE type='table'\n",
    "'''\n",
    "cursor.execute(q).fetchall()"
   ]
  },
  {
   "cell_type": "code",
   "execution_count": 153,
   "metadata": {
    "collapsed": false
   },
   "outputs": [
    {
     "data": {
      "text/plain": [
       "<sqlite3.Cursor at 0x7f372c0ff9d0>"
      ]
     },
     "execution_count": 153,
     "metadata": {},
     "output_type": "execute_result"
    }
   ],
   "source": [
    "q = '''\n",
    "    CREATE TABLE movies (\n",
    "    id integer PRIMARY KEY,\n",
    "    movie text\n",
    "    )\n",
    "'''\n",
    "cursor.execute(q)\n",
    "\n",
    "q = '''\n",
    "    CREATE TABLE actors (\n",
    "    id integer PRIMARY KEY,\n",
    "    actor text\n",
    "    )\n",
    "'''\n",
    "cursor.execute(q)\n",
    "\n",
    "q = '''\n",
    "    CREATE TABLE movies_actors (\n",
    "    id integer PRIMARY KEY,\n",
    "    movie_id integer,\n",
    "    actor_id integer,\n",
    "    FOREIGN KEY (movie_id) REFERENCES movies(id),\n",
    "    FOREIGN KEY (actor_id) REFERENCES actors(id)\n",
    "    )\n",
    "'''\n",
    "cursor.execute(q)\n",
    "\n"
   ]
  },
  {
   "cell_type": "code",
   "execution_count": 154,
   "metadata": {
    "collapsed": false
   },
   "outputs": [
    {
     "data": {
      "text/plain": [
       "[('table',\n",
       "  'ceremonies',\n",
       "  'ceremonies',\n",
       "  19,\n",
       "  'CREATE TABLE ceremonies (\\n        id integer PRIMARY KEY,\\n        Year integer,\\n        Host text\\n    )'),\n",
       " ('table',\n",
       "  'nominations',\n",
       "  'nominations',\n",
       "  20,\n",
       "  'CREATE TABLE \"nominations\" (\\n        id integer PRIMARY KEY,\\n        category text,\\n        nominee text,\\n        movie text,\\n        character text,\\n        won integer,\\n        ceremony_id integer,\\n        FOREIGN KEY (ceremony_id) REFERENCES ceremonies(id)\\n    )'),\n",
       " ('table',\n",
       "  'movies',\n",
       "  'movies',\n",
       "  2,\n",
       "  'CREATE TABLE movies (\\n    id integer PRIMARY KEY,\\n    movie text\\n    )'),\n",
       " ('table',\n",
       "  'actors',\n",
       "  'actors',\n",
       "  4,\n",
       "  'CREATE TABLE actors (\\n    id integer PRIMARY KEY,\\n    actor text\\n    )'),\n",
       " ('table',\n",
       "  'movies_actors',\n",
       "  'movies_actors',\n",
       "  5,\n",
       "  'CREATE TABLE movies_actors (\\n    id integer PRIMARY KEY,\\n    movie_id integer,\\n    actor_id integer,\\n    FOREIGN KEY (movie_id) REFERENCES movies(id),\\n    FOREIGN KEY (actor_id) REFERENCES actors(id)\\n    )')]"
      ]
     },
     "execution_count": 154,
     "metadata": {},
     "output_type": "execute_result"
    }
   ],
   "source": [
    "q = '''\n",
    "    SELECT * FROM sqlite_master WHERE type='table'\n",
    "'''\n",
    "cursor.execute(q).fetchall()"
   ]
  },
  {
   "cell_type": "code",
   "execution_count": 155,
   "metadata": {
    "collapsed": false
   },
   "outputs": [
    {
     "data": {
      "text/plain": [
       "<sqlite3.Cursor at 0x7f372c0ff9d0>"
      ]
     },
     "execution_count": 155,
     "metadata": {},
     "output_type": "execute_result"
    }
   ],
   "source": [
    "q = '''\n",
    "    SELECT DISTINCT(nominee) FROM nominations ORDER BY nominee ASC\n",
    "'''\n",
    "actors = cursor.execute(q).fetchall()\n",
    "\n",
    "q = '''\n",
    "    INSERT INTO actors (actor) VALUES (?)\n",
    "'''\n",
    "cursor.executemany(q,actors)"
   ]
  },
  {
   "cell_type": "code",
   "execution_count": 156,
   "metadata": {
    "collapsed": false
   },
   "outputs": [
    {
     "data": {
      "text/plain": [
       "[(1, 'Abigail Breslin'),\n",
       " (2, 'Adriana Barraza'),\n",
       " (3, 'Adrien Brody'),\n",
       " (4, 'Alan Alda'),\n",
       " (5, 'Alan Arkin')]"
      ]
     },
     "execution_count": 156,
     "metadata": {},
     "output_type": "execute_result"
    }
   ],
   "source": [
    "cursor.execute(\"SELECT * FROM actors LIMIT 5\").fetchall()"
   ]
  },
  {
   "cell_type": "code",
   "execution_count": 157,
   "metadata": {
    "collapsed": false
   },
   "outputs": [
    {
     "data": {
      "text/plain": [
       "<sqlite3.Cursor at 0x7f372c0ff9d0>"
      ]
     },
     "execution_count": 157,
     "metadata": {},
     "output_type": "execute_result"
    }
   ],
   "source": [
    "q = '''\n",
    "    SELECT DISTINCT(movie) FROM nominations ORDER BY movie ASC\n",
    "'''\n",
    "movies = cursor.execute(q).fetchall()\n",
    "\n",
    "q = '''\n",
    "    INSERT INTO movies (movie) VALUES (?)\n",
    "'''\n",
    "cursor.executemany(q,movies)"
   ]
  },
  {
   "cell_type": "code",
   "execution_count": 158,
   "metadata": {
    "collapsed": false
   },
   "outputs": [
    {
     "data": {
      "text/plain": [
       "[(1, '127 Hours'),\n",
       " (2, '21 Grams'),\n",
       " (3, 'A Beautiful Mind'),\n",
       " (4, 'A History of Violence'),\n",
       " (5, 'A Single Man')]"
      ]
     },
     "execution_count": 158,
     "metadata": {},
     "output_type": "execute_result"
    }
   ],
   "source": [
    "cursor.execute(\"SELECT * FROM movies LIMIT 5\").fetchall()"
   ]
  },
  {
   "cell_type": "code",
   "execution_count": 159,
   "metadata": {
    "collapsed": false
   },
   "outputs": [
    {
     "data": {
      "text/plain": [
       "[(16, 66),\n",
       " (130, 67),\n",
       " (121, 72),\n",
       " (108, 31),\n",
       " (1, 64),\n",
       " (104, 25),\n",
       " (139, 76),\n",
       " (122, 71),\n",
       " (107, 96),\n",
       " (108, 48)]"
      ]
     },
     "execution_count": 159,
     "metadata": {},
     "output_type": "execute_result"
    }
   ],
   "source": [
    "q = '''\n",
    "    SELECT movies.id, actors.id FROM nominations \n",
    "    INNER JOIN actors ON nominations.nominee==actors.actor\n",
    "    INNER JOIN movies ON nominations.movie==movies.movie\n",
    "'''\n",
    "movies_actors = cursor.execute(q).fetchall()\n",
    "\n",
    "movies_actors[:10]"
   ]
  },
  {
   "cell_type": "code",
   "execution_count": 162,
   "metadata": {
    "collapsed": false
   },
   "outputs": [
    {
     "data": {
      "text/plain": [
       "<sqlite3.Cursor at 0x7f372c0ff9d0>"
      ]
     },
     "execution_count": 162,
     "metadata": {},
     "output_type": "execute_result"
    }
   ],
   "source": [
    "q = '''\n",
    "    INSERT INTO movies_actors (movie_id,actor_id) VALUES (?,?)\n",
    "'''\n",
    "cursor.executemany(q,movies_actors)"
   ]
  },
  {
   "cell_type": "code",
   "execution_count": 164,
   "metadata": {
    "collapsed": false
   },
   "outputs": [
    {
     "data": {
      "text/plain": [
       "[('Biutiful', 'Javier Bardem'),\n",
       " ('True Grit', 'Jeff Bridges'),\n",
       " ('The Social Network', 'Jesse Eisenberg'),\n",
       " (\"The King's Speech\", 'Colin Firth'),\n",
       " ('127 Hours', 'James Franco'),\n",
       " ('The Fighter', 'Christian Bale'),\n",
       " (\"Winter's Bone\", 'John Hawkes'),\n",
       " ('The Town', 'Jeremy Renner'),\n",
       " ('The Kids Are All Right', 'Mark Ruffalo'),\n",
       " (\"The King's Speech\", 'Geoffrey Rush')]"
      ]
     },
     "execution_count": 164,
     "metadata": {},
     "output_type": "execute_result"
    }
   ],
   "source": [
    "q = '''\n",
    "    SELECT movies.movie,actors.actor FROM movies\n",
    "    INNER JOIN movies_actors ON movies.id = movies_actors.movie_id\n",
    "    INNER JOIN actors ON movies_actors.actor_id = actors.id\n",
    "    LIMIT 10\n",
    "'''\n",
    "cursor.execute(q).fetchall()"
   ]
  },
  {
   "cell_type": "code",
   "execution_count": 165,
   "metadata": {
    "collapsed": true
   },
   "outputs": [],
   "source": [
    "conn.close()"
   ]
  }
 ],
 "metadata": {
  "kernelspec": {
   "display_name": "Python 3",
   "language": "python",
   "name": "python3"
  },
  "language_info": {
   "codemirror_mode": {
    "name": "ipython",
    "version": 3
   },
   "file_extension": ".py",
   "mimetype": "text/x-python",
   "name": "python",
   "nbconvert_exporter": "python",
   "pygments_lexer": "ipython3",
   "version": "3.4.3"
  }
 },
 "nbformat": 4,
 "nbformat_minor": 0
}
