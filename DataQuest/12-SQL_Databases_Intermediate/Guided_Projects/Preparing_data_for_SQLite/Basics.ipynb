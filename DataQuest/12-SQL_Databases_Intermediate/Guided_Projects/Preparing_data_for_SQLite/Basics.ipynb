{
 "cells": [
  {
   "cell_type": "markdown",
   "metadata": {
    "collapsed": true
   },
   "source": [
    "# GETTING STARTED"
   ]
  },
  {
   "cell_type": "code",
   "execution_count": 11,
   "metadata": {
    "collapsed": false
   },
   "outputs": [
    {
     "name": "stdout",
     "output_type": "stream",
     "text": [
      "          Year               Category          Nominee  \\\n",
      "0  2010 (83rd)  Actor -- Leading Role    Javier Bardem   \n",
      "1  2010 (83rd)  Actor -- Leading Role     Jeff Bridges   \n",
      "2  2010 (83rd)  Actor -- Leading Role  Jesse Eisenberg   \n",
      "3  2010 (83rd)  Actor -- Leading Role      Colin Firth   \n",
      "4  2010 (83rd)  Actor -- Leading Role     James Franco   \n",
      "\n",
      "                          Additional Info Won? Unnamed: 5 Unnamed: 6  \\\n",
      "0                      Biutiful {'Uxbal'}   NO        NaN        NaN   \n",
      "1           True Grit {'Rooster Cogburn'}   NO        NaN        NaN   \n",
      "2  The Social Network {'Mark Zuckerberg'}   NO        NaN        NaN   \n",
      "3    The King's Speech {'King George VI'}  YES        NaN        NaN   \n",
      "4              127 Hours {'Aron Ralston'}   NO        NaN        NaN   \n",
      "\n",
      "  Unnamed: 7 Unnamed: 8 Unnamed: 9 Unnamed: 10  \n",
      "0        NaN        NaN        NaN         NaN  \n",
      "1        NaN        NaN        NaN         NaN  \n",
      "2        NaN        NaN        NaN         NaN  \n",
      "3        NaN        NaN        NaN         NaN  \n",
      "4        NaN        NaN        NaN         NaN  \n"
     ]
    }
   ],
   "source": [
    "import pandas as pd\n",
    "\n",
    "awards_data = pd.read_csv(\"academy_awards.csv\",encoding=\"ISO-8859-1\")\n",
    "print(awards_data.head())"
   ]
  },
  {
   "cell_type": "code",
   "execution_count": 12,
   "metadata": {
    "collapsed": false
   },
   "outputs": [
    {
     "name": "stdout",
     "output_type": "stream",
     "text": [
      "*                                                                                                               7\n",
      " discoverer of stars                                                                                            1\n",
      " D.B. \"Don\" Keele and Mark E. Engebretson has resulted in the over 20-year dominance of constant-directivity    1\n",
      " resilience                                                                                                     1\n",
      " error-prone measurements on sets. [Digital Imaging Technology]\"                                                1\n",
      "Name: Unnamed: 5, dtype: int64\n",
      "*                                                                   9\n",
      " sympathetic                                                        1\n",
      " flexibility and water resistance                                   1\n",
      " direct radiator bass style cinema loudspeaker systems. [Sound]\"    1\n",
      "Name: Unnamed: 6, dtype: int64\n",
      " kindly                                               1\n",
      " while requiring no dangerous solvents. [Systems]\"    1\n",
      "*                                                     1\n",
      "Name: Unnamed: 7, dtype: int64\n",
      "*                                                 1\n",
      " understanding comedy genius - Mack Sennett.\"\"    1\n",
      "Name: Unnamed: 8, dtype: int64\n",
      "*    1\n",
      "Name: Unnamed: 9, dtype: int64\n",
      "*    1\n",
      "Name: Unnamed: 10, dtype: int64\n"
     ]
    }
   ],
   "source": [
    "print(awards_data[\"Unnamed: 5\"].value_counts())\n",
    "print(awards_data[\"Unnamed: 6\"].value_counts())\n",
    "print(awards_data[\"Unnamed: 7\"].value_counts())\n",
    "print(awards_data[\"Unnamed: 8\"].value_counts())\n",
    "print(awards_data[\"Unnamed: 9\"].value_counts())\n",
    "print(awards_data[\"Unnamed: 10\"].value_counts())"
   ]
  },
  {
   "cell_type": "code",
   "execution_count": 13,
   "metadata": {
    "collapsed": false
   },
   "outputs": [
    {
     "name": "stdout",
     "output_type": "stream",
     "text": [
      "Metro-Goldwyn-Mayer                                                                                                    60\n",
      "Walt Disney, Producer                                                                                                  57\n",
      "Warner Bros.                                                                                                           42\n",
      "John Williams                                                                                                          37\n",
      "France                                                                                                                 35\n",
      "Alfred Newman                                                                                                          34\n",
      "Italy                                                                                                                  26\n",
      "Paramount                                                                                                              24\n",
      "Gordon Hollingshead, Producer                                                                                          22\n",
      "Edith Head                                                                                                             22\n",
      "RKO Radio                                                                                                              20\n",
      "20th Century-Fox                                                                                                       20\n",
      "Spain                                                                                                                  19\n",
      "Victor Young                                                                                                           19\n",
      "Leon Shamroy                                                                                                           17\n",
      "Jerry Goldsmith                                                                                                        16\n",
      "Woody Allen                                                                                                            16\n",
      "Max Steiner                                                                                                            16\n",
      "Metro-Goldwyn-Mayer Studio Sound Department, Douglas Shearer, Sound Director                                           15\n",
      "Sweden                                                                                                                 14\n",
      "Miklos Rozsa                                                                                                           14\n",
      "Alex North                                                                                                             14\n",
      "Dimitri Tiomkin                                                                                                        13\n",
      "Columbia Studio Sound Department, John Livadary, Sound Director                                                        13\n",
      "Columbia                                                                                                               13\n",
      "Pete Smith, Producer                                                                                                   13\n",
      "Franz Waxman                                                                                                           12\n",
      "Jean Louis                                                                                                             12\n",
      "Music and Lyric by Randy Newman                                                                                        12\n",
      "Robert Surtees                                                                                                         12\n",
      "                                                                                                                       ..\n",
      "The Green Years {'Alexander Gow'}                                                                                       1\n",
      "James R. Messenger and Paul N. Raimondi, Producers                                                                      1\n",
      "Story by Charles Kaufman; Screenplay by Charles Kaufman, Wolfgang Reinhardt                                             1\n",
      "Charles MacArthur, Ben Hecht                                                                                            1\n",
      "Linda Chapman, Pam LeBlanc and Freddi Stevens, Producers                                                                1\n",
      "Charlie Wilson's War {'Gust Avrakotos'}                                                                                 1\n",
      "Music and Lyric by Barbra Streisand, Marvin Hamlisch, Bryan Adams and Robert 'Mutt' Lange                               1\n",
      "Elizabeth: The Golden Age {'Queen Elizabeth I'}                                                                         1\n",
      "Lora Hirschberg, Gary A. Rizzo and Ed Novick                                                                            1\n",
      "Alison Snowden, Producer                                                                                                1\n",
      "Dianna Costello, Producer                                                                                               1\n",
      "Photographic Effects by A. Arnold Gillespie, Donald Jahraus, Robert A. MacDonald; Sound Effects by Michael Steinore     1\n",
      "McCabe & Mrs. Miller {'Mrs. Constance Miller'}                                                                          1\n",
      "Michael Shamberg, Producer                                                                                              1\n",
      "Shakespeare in Love {'Queen Elizabeth I'}                                                                               1\n",
      "Winton Hoch                                                                                                             1\n",
      "Holiday {'Linda Seton'}                                                                                                 1\n",
      "Daniel Fapp                                                                                                             1\n",
      "Ethan Van der Ryn and Mike Hopkins                                                                                      1\n",
      "William Lyon, Earle Herdan                                                                                              1\n",
      "Mark Rydell                                                                                                             1\n",
      "Hiroshi Teshigahara                                                                                                     1\n",
      "Judgment at Nuremberg {'Rudolph Peterson'}                                                                              1\n",
      "Some Came Running {'Frank Hirsh'}                                                                                       1\n",
      "Starman {'Starman'}                                                                                                     1\n",
      "Music by Burton Lane; Lyrics by Alan Jay Lerner                                                                         1\n",
      "Martin Bregman and Martin Elfand, Producers                                                                             1\n",
      "Chandler Sprague, David Boehm                                                                                           1\n",
      "Music by Bill Conti; Lyrics by Carol Connors and Ayn Robbins                                                            1\n",
      "Chris Carpenter, Bill W. Benton, Bob Beemer, Jeff Wexler                                                                1\n",
      "Name: Additional Info, dtype: int64\n"
     ]
    }
   ],
   "source": [
    "print(awards_data[\"Additional Info\"].value_counts())"
   ]
  },
  {
   "cell_type": "code",
   "execution_count": 14,
   "metadata": {
    "collapsed": false
   },
   "outputs": [
    {
     "name": "stdout",
     "output_type": "stream",
     "text": [
      "   Year               Category          Nominee  \\\n",
      "0  2010  Actor -- Leading Role    Javier Bardem   \n",
      "1  2010  Actor -- Leading Role     Jeff Bridges   \n",
      "2  2010  Actor -- Leading Role  Jesse Eisenberg   \n",
      "3  2010  Actor -- Leading Role      Colin Firth   \n",
      "4  2010  Actor -- Leading Role     James Franco   \n",
      "\n",
      "                          Additional Info Won? Unnamed: 5 Unnamed: 6  \\\n",
      "0                      Biutiful {'Uxbal'}   NO        NaN        NaN   \n",
      "1           True Grit {'Rooster Cogburn'}   NO        NaN        NaN   \n",
      "2  The Social Network {'Mark Zuckerberg'}   NO        NaN        NaN   \n",
      "3    The King's Speech {'King George VI'}  YES        NaN        NaN   \n",
      "4              127 Hours {'Aron Ralston'}   NO        NaN        NaN   \n",
      "\n",
      "  Unnamed: 7 Unnamed: 8 Unnamed: 9 Unnamed: 10  \n",
      "0        NaN        NaN        NaN         NaN  \n",
      "1        NaN        NaN        NaN         NaN  \n",
      "2        NaN        NaN        NaN         NaN  \n",
      "3        NaN        NaN        NaN         NaN  \n",
      "4        NaN        NaN        NaN         NaN  \n"
     ]
    }
   ],
   "source": [
    "awards_data.Year = awards_data.Year.str[0:4].astype(\"int64\")\n",
    "print(awards_data.head())"
   ]
  },
  {
   "cell_type": "code",
   "execution_count": 15,
   "metadata": {
    "collapsed": false
   },
   "outputs": [
    {
     "name": "stdout",
     "output_type": "stream",
     "text": [
      "      Year                                           Category  \\\n",
      "1289  2001  Scientific and Technical (Technical Achievemen...   \n",
      "1290  2001  Scientific and Technical (Gordon E. Sawyer Award)   \n",
      "1291  2001            Scientific and Technical (Bonner Medal)   \n",
      "1292  2001          Scientific and Technical (Special Awards)   \n",
      "1293  2001          Scientific and Technical (Special Awards)   \n",
      "\n",
      "                                                Nominee  \\\n",
      "1289  To MIC RODGERS and MATT SWEENEY for the concep...   \n",
      "1290                                Edmund M. Di Giulio   \n",
      "1291  To Ray Feeney in appreciation for outstanding ...   \n",
      "1292  To Rune Ericson for his pioneering development...   \n",
      "1293  To the American Society of Cinematographers (A...   \n",
      "\n",
      "                                        Additional Info  \\\n",
      "1289   low bed picture car carrier and camera platfo...   \n",
      "1290                                                NaN   \n",
      "1291                                                NaN   \n",
      "1292                                                NaN   \n",
      "1293   first published by the ASC in 1930, the Ameri...   \n",
      "\n",
      "                                                   Won? Unnamed: 5 Unnamed: 6  \\\n",
      "1289   economic and realistic filming of action sequ...        NaN          *   \n",
      "1290                                                YES        NaN        NaN   \n",
      "1291                                                YES        NaN        NaN   \n",
      "1292                                                YES        NaN        NaN   \n",
      "1293   this premier reference manual has had a signi...        NaN          *   \n",
      "\n",
      "     Unnamed: 7 Unnamed: 8 Unnamed: 9 Unnamed: 10  \n",
      "1289        NaN        NaN        NaN         NaN  \n",
      "1290        NaN        NaN        NaN         NaN  \n",
      "1291        NaN        NaN        NaN         NaN  \n",
      "1292        NaN        NaN        NaN         NaN  \n",
      "1293        NaN        NaN        NaN         NaN  \n"
     ]
    }
   ],
   "source": [
    "later_than_2000 = awards_data[awards_data.Year > 2000]\n",
    "print(later_than_2000.tail())"
   ]
  },
  {
   "cell_type": "code",
   "execution_count": 16,
   "metadata": {
    "collapsed": false
   },
   "outputs": [
    {
     "name": "stdout",
     "output_type": "stream",
     "text": [
      "   Year                  Category          Nominee  \\\n",
      "0  2010     Actor -- Leading Role    Javier Bardem   \n",
      "1  2010     Actor -- Leading Role     Jeff Bridges   \n",
      "2  2010     Actor -- Leading Role  Jesse Eisenberg   \n",
      "3  2010     Actor -- Leading Role      Colin Firth   \n",
      "4  2010     Actor -- Leading Role     James Franco   \n",
      "5  2010  Actor -- Supporting Role   Christian Bale   \n",
      "6  2010  Actor -- Supporting Role      John Hawkes   \n",
      "7  2010  Actor -- Supporting Role    Jeremy Renner   \n",
      "8  2010  Actor -- Supporting Role     Mark Ruffalo   \n",
      "9  2010  Actor -- Supporting Role    Geoffrey Rush   \n",
      "\n",
      "                          Additional Info Won? Unnamed: 5 Unnamed: 6  \\\n",
      "0                      Biutiful {'Uxbal'}   NO        NaN        NaN   \n",
      "1           True Grit {'Rooster Cogburn'}   NO        NaN        NaN   \n",
      "2  The Social Network {'Mark Zuckerberg'}   NO        NaN        NaN   \n",
      "3    The King's Speech {'King George VI'}  YES        NaN        NaN   \n",
      "4              127 Hours {'Aron Ralston'}   NO        NaN        NaN   \n",
      "5            The Fighter {'Dicky Eklund'}  YES        NaN        NaN   \n",
      "6              Winter's Bone {'Teardrop'}   NO        NaN        NaN   \n",
      "7             The Town {'James Coughlin'}   NO        NaN        NaN   \n",
      "8         The Kids Are All Right {'Paul'}   NO        NaN        NaN   \n",
      "9      The King's Speech {'Lionel Logue'}   NO        NaN        NaN   \n",
      "\n",
      "  Unnamed: 7 Unnamed: 8 Unnamed: 9 Unnamed: 10  \n",
      "0        NaN        NaN        NaN         NaN  \n",
      "1        NaN        NaN        NaN         NaN  \n",
      "2        NaN        NaN        NaN         NaN  \n",
      "3        NaN        NaN        NaN         NaN  \n",
      "4        NaN        NaN        NaN         NaN  \n",
      "5        NaN        NaN        NaN         NaN  \n",
      "6        NaN        NaN        NaN         NaN  \n",
      "7        NaN        NaN        NaN         NaN  \n",
      "8        NaN        NaN        NaN         NaN  \n",
      "9        NaN        NaN        NaN         NaN  \n"
     ]
    }
   ],
   "source": [
    "award_categories = [\"Actor -- Leading Role\", \"Actor -- Supporting Role\", \"Actress -- Leading Role\", \"Actress -- Supporting Role\"]\n",
    "nominations = later_than_2000[later_than_2000[\"Category\"].isin(award_categories)]\n",
    "print(nominations.head(10))"
   ]
  },
  {
   "cell_type": "code",
   "execution_count": 17,
   "metadata": {
    "collapsed": false
   },
   "outputs": [
    {
     "name": "stdout",
     "output_type": "stream",
     "text": [
      "   Year                  Category          Nominee  \\\n",
      "0  2010     Actor -- Leading Role    Javier Bardem   \n",
      "1  2010     Actor -- Leading Role     Jeff Bridges   \n",
      "2  2010     Actor -- Leading Role  Jesse Eisenberg   \n",
      "3  2010     Actor -- Leading Role      Colin Firth   \n",
      "4  2010     Actor -- Leading Role     James Franco   \n",
      "5  2010  Actor -- Supporting Role   Christian Bale   \n",
      "6  2010  Actor -- Supporting Role      John Hawkes   \n",
      "7  2010  Actor -- Supporting Role    Jeremy Renner   \n",
      "8  2010  Actor -- Supporting Role     Mark Ruffalo   \n",
      "9  2010  Actor -- Supporting Role    Geoffrey Rush   \n",
      "\n",
      "                          Additional Info  Won? Unnamed: 5 Unnamed: 6  \\\n",
      "0                      Biutiful {'Uxbal'}     0        NaN        NaN   \n",
      "1           True Grit {'Rooster Cogburn'}     0        NaN        NaN   \n",
      "2  The Social Network {'Mark Zuckerberg'}     0        NaN        NaN   \n",
      "3    The King's Speech {'King George VI'}     1        NaN        NaN   \n",
      "4              127 Hours {'Aron Ralston'}     0        NaN        NaN   \n",
      "5            The Fighter {'Dicky Eklund'}     1        NaN        NaN   \n",
      "6              Winter's Bone {'Teardrop'}     0        NaN        NaN   \n",
      "7             The Town {'James Coughlin'}     0        NaN        NaN   \n",
      "8         The Kids Are All Right {'Paul'}     0        NaN        NaN   \n",
      "9      The King's Speech {'Lionel Logue'}     0        NaN        NaN   \n",
      "\n",
      "  Unnamed: 7 Unnamed: 8 Unnamed: 9 Unnamed: 10  \n",
      "0        NaN        NaN        NaN         NaN  \n",
      "1        NaN        NaN        NaN         NaN  \n",
      "2        NaN        NaN        NaN         NaN  \n",
      "3        NaN        NaN        NaN         NaN  \n",
      "4        NaN        NaN        NaN         NaN  \n",
      "5        NaN        NaN        NaN         NaN  \n",
      "6        NaN        NaN        NaN         NaN  \n",
      "7        NaN        NaN        NaN         NaN  \n",
      "8        NaN        NaN        NaN         NaN  \n",
      "9        NaN        NaN        NaN         NaN  \n"
     ]
    },
    {
     "name": "stderr",
     "output_type": "stream",
     "text": [
      "/dataquest/system/env/python3/lib/python3.4/site-packages/ipykernel/__main__.py:2: SettingWithCopyWarning: \n",
      "A value is trying to be set on a copy of a slice from a DataFrame.\n",
      "Try using .loc[row_indexer,col_indexer] = value instead\n",
      "\n",
      "See the caveats in the documentation: http://pandas.pydata.org/pandas-docs/stable/indexing.html#indexing-view-versus-copy\n",
      "  from ipykernel import kernelapp as app\n"
     ]
    }
   ],
   "source": [
    "YES_NO_dict = {\"YES\": 1, \"NO\":0}\n",
    "nominations[\"Won?\"] = nominations.loc[:,\"Won?\"].map(YES_NO_dict)\n",
    "print(nominations.head(10))"
   ]
  },
  {
   "cell_type": "code",
   "execution_count": 18,
   "metadata": {
    "collapsed": false
   },
   "outputs": [
    {
     "name": "stdout",
     "output_type": "stream",
     "text": [
      "   Year               Category          Nominee  \\\n",
      "0  2010  Actor -- Leading Role    Javier Bardem   \n",
      "1  2010  Actor -- Leading Role     Jeff Bridges   \n",
      "2  2010  Actor -- Leading Role  Jesse Eisenberg   \n",
      "3  2010  Actor -- Leading Role      Colin Firth   \n",
      "4  2010  Actor -- Leading Role     James Franco   \n",
      "\n",
      "                          Additional Info  Won  \n",
      "0                      Biutiful {'Uxbal'}    0  \n",
      "1           True Grit {'Rooster Cogburn'}    0  \n",
      "2  The Social Network {'Mark Zuckerberg'}    0  \n",
      "3    The King's Speech {'King George VI'}    1  \n",
      "4              127 Hours {'Aron Ralston'}    0  \n"
     ]
    },
    {
     "name": "stderr",
     "output_type": "stream",
     "text": [
      "/dataquest/system/env/python3/lib/python3.4/site-packages/pandas/core/indexing.py:297: SettingWithCopyWarning: \n",
      "A value is trying to be set on a copy of a slice from a DataFrame.\n",
      "Try using .loc[row_indexer,col_indexer] = value instead\n",
      "\n",
      "See the caveats in the documentation: http://pandas.pydata.org/pandas-docs/stable/indexing.html#indexing-view-versus-copy\n",
      "  self.obj[key] = _infer_fill_value(value)\n",
      "/dataquest/system/env/python3/lib/python3.4/site-packages/pandas/core/indexing.py:477: SettingWithCopyWarning: \n",
      "A value is trying to be set on a copy of a slice from a DataFrame.\n",
      "Try using .loc[row_indexer,col_indexer] = value instead\n",
      "\n",
      "See the caveats in the documentation: http://pandas.pydata.org/pandas-docs/stable/indexing.html#indexing-view-versus-copy\n",
      "  self.obj[item] = s\n"
     ]
    }
   ],
   "source": [
    "nominations.loc[:,\"Won\"] = nominations.loc[:,\"Won?\"]\n",
    "\n",
    "cols_to_drop = [\"Won?\", \"Unnamed: 5\", \"Unnamed: 6\", \"Unnamed: 7\", \"Unnamed: 8\", \"Unnamed: 9\", \"Unnamed: 10\"]\n",
    "final_nominations = nominations.drop(cols_to_drop,axis=1)\n",
    "\n",
    "print(final_nominations.head())"
   ]
  },
  {
   "cell_type": "code",
   "execution_count": 19,
   "metadata": {
    "collapsed": false
   },
   "outputs": [
    {
     "data": {
      "text/html": [
       "<div>\n",
       "<table border=\"1\" class=\"dataframe\">\n",
       "  <thead>\n",
       "    <tr style=\"text-align: right;\">\n",
       "      <th></th>\n",
       "      <th>Year</th>\n",
       "      <th>Category</th>\n",
       "      <th>Nominee</th>\n",
       "      <th>Won</th>\n",
       "      <th>Movie</th>\n",
       "      <th>Character</th>\n",
       "    </tr>\n",
       "  </thead>\n",
       "  <tbody>\n",
       "    <tr>\n",
       "      <th>0</th>\n",
       "      <td>2010</td>\n",
       "      <td>Actor -- Leading Role</td>\n",
       "      <td>Javier Bardem</td>\n",
       "      <td>0</td>\n",
       "      <td>Biutiful</td>\n",
       "      <td>Uxbal</td>\n",
       "    </tr>\n",
       "    <tr>\n",
       "      <th>1</th>\n",
       "      <td>2010</td>\n",
       "      <td>Actor -- Leading Role</td>\n",
       "      <td>Jeff Bridges</td>\n",
       "      <td>0</td>\n",
       "      <td>True Grit</td>\n",
       "      <td>Rooster Cogburn</td>\n",
       "    </tr>\n",
       "    <tr>\n",
       "      <th>2</th>\n",
       "      <td>2010</td>\n",
       "      <td>Actor -- Leading Role</td>\n",
       "      <td>Jesse Eisenberg</td>\n",
       "      <td>0</td>\n",
       "      <td>The Social Network</td>\n",
       "      <td>Mark Zuckerberg</td>\n",
       "    </tr>\n",
       "    <tr>\n",
       "      <th>3</th>\n",
       "      <td>2010</td>\n",
       "      <td>Actor -- Leading Role</td>\n",
       "      <td>Colin Firth</td>\n",
       "      <td>1</td>\n",
       "      <td>The King's Speech</td>\n",
       "      <td>King George VI</td>\n",
       "    </tr>\n",
       "    <tr>\n",
       "      <th>4</th>\n",
       "      <td>2010</td>\n",
       "      <td>Actor -- Leading Role</td>\n",
       "      <td>James Franco</td>\n",
       "      <td>0</td>\n",
       "      <td>127 Hours</td>\n",
       "      <td>Aron Ralston</td>\n",
       "    </tr>\n",
       "    <tr>\n",
       "      <th>5</th>\n",
       "      <td>2010</td>\n",
       "      <td>Actor -- Supporting Role</td>\n",
       "      <td>Christian Bale</td>\n",
       "      <td>1</td>\n",
       "      <td>The Fighter</td>\n",
       "      <td>Dicky Eklund</td>\n",
       "    </tr>\n",
       "    <tr>\n",
       "      <th>6</th>\n",
       "      <td>2010</td>\n",
       "      <td>Actor -- Supporting Role</td>\n",
       "      <td>John Hawkes</td>\n",
       "      <td>0</td>\n",
       "      <td>Winter's Bone</td>\n",
       "      <td>Teardrop</td>\n",
       "    </tr>\n",
       "    <tr>\n",
       "      <th>7</th>\n",
       "      <td>2010</td>\n",
       "      <td>Actor -- Supporting Role</td>\n",
       "      <td>Jeremy Renner</td>\n",
       "      <td>0</td>\n",
       "      <td>The Town</td>\n",
       "      <td>James Coughlin</td>\n",
       "    </tr>\n",
       "    <tr>\n",
       "      <th>8</th>\n",
       "      <td>2010</td>\n",
       "      <td>Actor -- Supporting Role</td>\n",
       "      <td>Mark Ruffalo</td>\n",
       "      <td>0</td>\n",
       "      <td>The Kids Are All Right</td>\n",
       "      <td>Paul</td>\n",
       "    </tr>\n",
       "    <tr>\n",
       "      <th>9</th>\n",
       "      <td>2010</td>\n",
       "      <td>Actor -- Supporting Role</td>\n",
       "      <td>Geoffrey Rush</td>\n",
       "      <td>0</td>\n",
       "      <td>The King's Speech</td>\n",
       "      <td>Lionel Logue</td>\n",
       "    </tr>\n",
       "  </tbody>\n",
       "</table>\n",
       "</div>"
      ],
      "text/plain": [
       "   Year                  Category          Nominee  Won  \\\n",
       "0  2010     Actor -- Leading Role    Javier Bardem    0   \n",
       "1  2010     Actor -- Leading Role     Jeff Bridges    0   \n",
       "2  2010     Actor -- Leading Role  Jesse Eisenberg    0   \n",
       "3  2010     Actor -- Leading Role      Colin Firth    1   \n",
       "4  2010     Actor -- Leading Role     James Franco    0   \n",
       "5  2010  Actor -- Supporting Role   Christian Bale    1   \n",
       "6  2010  Actor -- Supporting Role      John Hawkes    0   \n",
       "7  2010  Actor -- Supporting Role    Jeremy Renner    0   \n",
       "8  2010  Actor -- Supporting Role     Mark Ruffalo    0   \n",
       "9  2010  Actor -- Supporting Role    Geoffrey Rush    0   \n",
       "\n",
       "                    Movie        Character  \n",
       "0                Biutiful            Uxbal  \n",
       "1               True Grit  Rooster Cogburn  \n",
       "2      The Social Network  Mark Zuckerberg  \n",
       "3       The King's Speech   King George VI  \n",
       "4               127 Hours     Aron Ralston  \n",
       "5             The Fighter     Dicky Eklund  \n",
       "6           Winter's Bone         Teardrop  \n",
       "7                The Town   James Coughlin  \n",
       "8  The Kids Are All Right             Paul  \n",
       "9       The King's Speech     Lionel Logue  "
      ]
     },
     "execution_count": 19,
     "metadata": {},
     "output_type": "execute_result"
    }
   ],
   "source": [
    "additional_info_split = final_nominations[\"Additional Info\"].str[:-2].str.split(\" {'\")\n",
    "final_nominations[\"Movie\"] = additional_info_split.str[0]\n",
    "final_nominations[\"Character\"] = additional_info_split.str[1]\n",
    "final_nominations.drop(\"Additional Info\",axis=1,inplace=True)\n",
    "final_nominations.head(10)"
   ]
  },
  {
   "cell_type": "code",
   "execution_count": 20,
   "metadata": {
    "collapsed": false
   },
   "outputs": [
    {
     "data": {
      "text/plain": [
       "[(2010, 'Actor -- Leading Role', 'Javier Bardem', 0, 'Biutiful', 'Uxbal'),\n",
       " (2010,\n",
       "  'Actor -- Leading Role',\n",
       "  'Jeff Bridges',\n",
       "  0,\n",
       "  'True Grit',\n",
       "  'Rooster Cogburn'),\n",
       " (2010,\n",
       "  'Actor -- Leading Role',\n",
       "  'Jesse Eisenberg',\n",
       "  0,\n",
       "  'The Social Network',\n",
       "  'Mark Zuckerberg'),\n",
       " (2010,\n",
       "  'Actor -- Leading Role',\n",
       "  'Colin Firth',\n",
       "  1,\n",
       "  \"The King's Speech\",\n",
       "  'King George VI'),\n",
       " (2010,\n",
       "  'Actor -- Leading Role',\n",
       "  'James Franco',\n",
       "  0,\n",
       "  '127 Hours',\n",
       "  'Aron Ralston'),\n",
       " (2010,\n",
       "  'Actor -- Supporting Role',\n",
       "  'Christian Bale',\n",
       "  1,\n",
       "  'The Fighter',\n",
       "  'Dicky Eklund'),\n",
       " (2010,\n",
       "  'Actor -- Supporting Role',\n",
       "  'John Hawkes',\n",
       "  0,\n",
       "  \"Winter's Bone\",\n",
       "  'Teardrop'),\n",
       " (2010,\n",
       "  'Actor -- Supporting Role',\n",
       "  'Jeremy Renner',\n",
       "  0,\n",
       "  'The Town',\n",
       "  'James Coughlin'),\n",
       " (2010,\n",
       "  'Actor -- Supporting Role',\n",
       "  'Mark Ruffalo',\n",
       "  0,\n",
       "  'The Kids Are All Right',\n",
       "  'Paul'),\n",
       " (2010,\n",
       "  'Actor -- Supporting Role',\n",
       "  'Geoffrey Rush',\n",
       "  0,\n",
       "  \"The King's Speech\",\n",
       "  'Lionel Logue')]"
      ]
     },
     "execution_count": 20,
     "metadata": {},
     "output_type": "execute_result"
    }
   ],
   "source": [
    "import sqlite3 as sql\n",
    "\n",
    "conn = sql.connect(\"nominations.db\")\n",
    "final_nominations.to_sql(\"nominations\",conn,index=False,if_exists=\"replace\")\n",
    "\n",
    "conn.execute(\"SELECT * FROM nominations LIMIT 10\").fetchall()"
   ]
  },
  {
   "cell_type": "code",
   "execution_count": 24,
   "metadata": {
    "collapsed": false
   },
   "outputs": [
    {
     "ename": "ProgrammingError",
     "evalue": "Cannot operate on a closed database.",
     "output_type": "error",
     "traceback": [
      "\u001b[1;31m\u001b[0m",
      "\u001b[1;31mProgrammingError\u001b[0mTraceback (most recent call last)",
      "\u001b[1;32m<ipython-input-24-cbf94a0de4de>\u001b[0m in \u001b[0;36m<module>\u001b[1;34m()\u001b[0m\n\u001b[1;32m----> 1\u001b[1;33m \u001b[0mconn\u001b[0m\u001b[1;33m.\u001b[0m\u001b[0mexecute\u001b[0m\u001b[1;33m(\u001b[0m\u001b[1;34m\"PRAGMA table_info(nominations)\"\u001b[0m\u001b[1;33m)\u001b[0m\u001b[1;33m.\u001b[0m\u001b[0mfetchall\u001b[0m\u001b[1;33m(\u001b[0m\u001b[1;33m)\u001b[0m\u001b[1;33m\u001b[0m\u001b[0m\n\u001b[0m",
      "\u001b[1;31mProgrammingError\u001b[0m: Cannot operate on a closed database."
     ]
    }
   ],
   "source": [
    "conn.execute(\"PRAGMA table_info(nominations)\").fetchall()"
   ]
  },
  {
   "cell_type": "code",
   "execution_count": 22,
   "metadata": {
    "collapsed": true
   },
   "outputs": [],
   "source": [
    "conn.close()"
   ]
  }
 ],
 "metadata": {
  "kernelspec": {
   "display_name": "Python 3",
   "language": "python",
   "name": "python3"
  },
  "language_info": {
   "codemirror_mode": {
    "name": "ipython",
    "version": 3
   },
   "file_extension": ".py",
   "mimetype": "text/x-python",
   "name": "python",
   "nbconvert_exporter": "python",
   "pygments_lexer": "ipython3",
   "version": "3.4.3"
  }
 },
 "nbformat": 4,
 "nbformat_minor": 0
}
